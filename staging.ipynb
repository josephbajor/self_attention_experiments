{
 "cells": [
  {
   "cell_type": "code",
   "execution_count": 1,
   "metadata": {},
   "outputs": [
    {
     "ename": "SyntaxError",
     "evalue": "invalid syntax (dataloaders.py, line 36)",
     "output_type": "error",
     "traceback": [
      "Traceback \u001b[0;36m(most recent call last)\u001b[0m:\n",
      "\u001b[0m  File \u001b[1;32m~/miniconda3/envs/dl/lib/python3.10/site-packages/IPython/core/interactiveshell.py:3460\u001b[0m in \u001b[1;35mrun_code\u001b[0m\n    exec(code_obj, self.user_global_ns, self.user_ns)\u001b[0m\n",
      "\u001b[0;36m  Cell \u001b[0;32mIn[1], line 16\u001b[0;36m\n\u001b[0;31m    from src.dataloaders import build_loaders\u001b[0;36m\n",
      "\u001b[0;36m  File \u001b[0;32m~/Dev/Personal/self_attention_experiments/src/dataloaders.py:36\u001b[0;36m\u001b[0m\n\u001b[0;31m    raise FileNotFoundError, \"data not found in {datapath}!\\nRun preprocessing.py before training\"\u001b[0m\n\u001b[0m                           ^\u001b[0m\n\u001b[0;31mSyntaxError\u001b[0m\u001b[0;31m:\u001b[0m invalid syntax\n"
     ]
    }
   ],
   "source": [
    "import numpy as np\n",
    "import pickle\n",
    "import torch\n",
    "import torch.nn.functional as F\n",
    "\n",
    "import os\n",
    "import glob\n",
    "\n",
    "from tokenizers import Tokenizer\n",
    "from tokenizers.models import BPE\n",
    "from tokenizers.trainers import BpeTrainer\n",
    "from tokenizers.pre_tokenizers import Whitespace\n",
    "\n",
    "from src.model import SimpleBigramModel\n",
    "from src.preprocessing import preprocess_wikitext\n",
    "from src.dataloaders import build_loaders\n",
    "from hparams import Hparams"
   ]
  },
  {
   "cell_type": "code",
   "execution_count": 6,
   "metadata": {},
   "outputs": [
    {
     "ename": "AttributeError",
     "evalue": "'Hparams' object has no attribute 'tokenized_dir'",
     "output_type": "error",
     "traceback": [
      "\u001b[0;31m---------------------------------------------------------------------------\u001b[0m",
      "\u001b[0;31mAttributeError\u001b[0m                            Traceback (most recent call last)",
      "Cell \u001b[0;32mIn[6], line 1\u001b[0m\n\u001b[0;32m----> 1\u001b[0m np\u001b[39m.\u001b[39mload(\u001b[39mf\u001b[39m\u001b[39m'\u001b[39m\u001b[39m{\u001b[39;00mhparams\u001b[39m.\u001b[39;49mtokenized_dir\u001b[39m}\u001b[39;00m\u001b[39m/wikitext_tokenized.npz\u001b[39m\u001b[39m'\u001b[39m)\n",
      "\u001b[0;31mAttributeError\u001b[0m: 'Hparams' object has no attribute 'tokenized_dir'"
     ]
    }
   ],
   "source": [
    "np.load(f'{hparams.tokenized_dir}/wikitext_tokenized.npz')"
   ]
  },
  {
   "cell_type": "code",
   "execution_count": null,
   "metadata": {},
   "outputs": [],
   "source": []
  },
  {
   "cell_type": "code",
   "execution_count": 5,
   "metadata": {},
   "outputs": [],
   "source": [
    "hparams = Hparams()"
   ]
  },
  {
   "cell_type": "code",
   "execution_count": 3,
   "metadata": {},
   "outputs": [
    {
     "name": "stdout",
     "output_type": "stream",
     "text": [
      "\n",
      "\n",
      "\n",
      "huggingface/tokenizers: The current process just got forked, after parallelism has already been used. Disabling parallelism to avoid deadlocks...\n",
      "To disable this warning, you can either:\n",
      "\t- Avoid using `tokenizers` before the fork if possible\n",
      "\t- Explicitly set the environment variable TOKENIZERS_PARALLELISM=(true | false)\n",
      "huggingface/tokenizers: The current process just got forked, after parallelism has already been used. Disabling parallelism to avoid deadlocks...\n",
      "To disable this warning, you can either:\n",
      "\t- Avoid using `tokenizers` before the fork if possible\n",
      "\t- Explicitly set the environment variable TOKENIZERS_PARALLELISM=(true | false)\n",
      "huggingface/tokenizers: The current process just got forked, after parallelism has already been used. Disabling parallelism to avoid deadlocks...\n",
      "To disable this warning, you can either:\n",
      "\t- Avoid using `tokenizers` before the fork if possible\n",
      "\t- Explicitly set the environment variable TOKENIZERS_PARALLELISM=(true | false)\n",
      "huggingface/tokenizers: The current process just got forked, after parallelism has already been used. Disabling parallelism to avoid deadlocks...\n",
      "To disable this warning, you can either:\n",
      "\t- Avoid using `tokenizers` before the fork if possible\n",
      "\t- Explicitly set the environment variable TOKENIZERS_PARALLELISM=(true | false)\n",
      "huggingface/tokenizers: The current process just got forked, after parallelism has already been used. Disabling parallelism to avoid deadlocks...\n",
      "To disable this warning, you can either:\n",
      "\t- Avoid using `tokenizers` before the fork if possible\n",
      "\t- Explicitly set the environment variable TOKENIZERS_PARALLELISM=(true | false)\n",
      "huggingface/tokenizers: The current process just got forked, after parallelism has already been used. Disabling parallelism to avoid deadlocks...\n",
      "To disable this warning, you can either:\n",
      "\t- Avoid using `tokenizers` before the fork if possible\n",
      "\t- Explicitly set the environment variable TOKENIZERS_PARALLELISM=(true | false)\n",
      "huggingface/tokenizers: The current process just got forked, after parallelism has already been used. Disabling parallelism to avoid deadlocks...\n",
      "To disable this warning, you can either:\n",
      "\t- Avoid using `tokenizers` before the fork if possible\n",
      "\t- Explicitly set the environment variable TOKENIZERS_PARALLELISM=(true | false)\n",
      "huggingface/tokenizers: The current process just got forked, after parallelism has already been used. Disabling parallelism to avoid deadlocks...\n",
      "To disable this warning, you can either:\n",
      "\t- Avoid using `tokenizers` before the fork if possible\n",
      "\t- Explicitly set the environment variable TOKENIZERS_PARALLELISM=(true | false)\n"
     ]
    },
    {
     "name": "stderr",
     "output_type": "stream",
     "text": [
      "2796.85s - Error processing internal command.\n",
      "2796.84s - Error processing internal command.\n",
      "2796.84s - Error processing internal command.\n",
      "2796.85s - Error processing internal command.\n",
      "2796.84s - Error processing internal command.\n",
      "2796.85s - Error processing internal command.\n",
      "2796.85s - Error processing internal command.\n",
      "2796.85s - Error processing internal command.\n",
      "Traceback (most recent call last):\n",
      "Traceback (most recent call last):\n",
      "Traceback (most recent call last):\n",
      "  File \"/home/jbajor/miniconda3/envs/dl/lib/python3.10/site-packages/debugpy/_vendored/pydevd/pydevd.py\", line 1783, in process_internal_commands\n",
      "    int_cmd.do_it(self)\n",
      "  File \"/home/jbajor/miniconda3/envs/dl/lib/python3.10/site-packages/debugpy/_vendored/pydevd/pydevd.py\", line 1783, in process_internal_commands\n",
      "    int_cmd.do_it(self)\n",
      "  File \"/home/jbajor/miniconda3/envs/dl/lib/python3.10/site-packages/debugpy/_vendored/pydevd/pydevd.py\", line 1783, in process_internal_commands\n",
      "    int_cmd.do_it(self)\n",
      "  File \"/home/jbajor/miniconda3/envs/dl/lib/python3.10/site-packages/debugpy/_vendored/pydevd/_pydevd_bundle/pydevd_comm.py\", line 528, in do_it\n",
      "    self.method(dbg, *self.args, **self.kwargs)\n",
      "  File \"/home/jbajor/miniconda3/envs/dl/lib/python3.10/site-packages/debugpy/_vendored/pydevd/_pydevd_bundle/pydevd_comm.py\", line 1149, in internal_evaluate_expression_json\n",
      "    with ctx:\n",
      "Traceback (most recent call last):\n",
      "Traceback (most recent call last):\n",
      "  File \"/home/jbajor/miniconda3/envs/dl/lib/python3.10/site-packages/debugpy/_vendored/pydevd/pydevd.py\", line 1783, in process_internal_commands\n",
      "    int_cmd.do_it(self)\n",
      "  File \"/home/jbajor/miniconda3/envs/dl/lib/python3.10/site-packages/debugpy/_vendored/pydevd/pydevd.py\", line 1783, in process_internal_commands\n",
      "    int_cmd.do_it(self)\n",
      "  File \"/home/jbajor/miniconda3/envs/dl/lib/python3.10/site-packages/debugpy/_vendored/pydevd/_pydevd_bundle/pydevd_comm.py\", line 528, in do_it\n",
      "    self.method(dbg, *self.args, **self.kwargs)\n",
      "  File \"/home/jbajor/miniconda3/envs/dl/lib/python3.10/site-packages/debugpy/_vendored/pydevd/_pydevd_bundle/pydevd_comm.py\", line 528, in do_it\n",
      "    self.method(dbg, *self.args, **self.kwargs)\n",
      "  File \"/home/jbajor/miniconda3/envs/dl/lib/python3.10/contextlib.py\", line 142, in __exit__\n",
      "    next(self.gen)\n",
      "  File \"/home/jbajor/miniconda3/envs/dl/lib/python3.10/site-packages/debugpy/_vendored/pydevd/_pydevd_bundle/pydevd_comm.py\", line 1149, in internal_evaluate_expression_json\n",
      "    with ctx:\n",
      "  File \"/home/jbajor/miniconda3/envs/dl/lib/python3.10/site-packages/debugpy/_vendored/pydevd/_pydevd_bundle/pydevd_comm.py\", line 1149, in internal_evaluate_expression_json\n",
      "    with ctx:\n",
      "  File \"/home/jbajor/miniconda3/envs/dl/lib/python3.10/contextlib.py\", line 142, in __exit__\n",
      "    next(self.gen)\n",
      "  File \"/home/jbajor/miniconda3/envs/dl/lib/python3.10/contextlib.py\", line 142, in __exit__\n",
      "    next(self.gen)\n",
      "  File \"/home/jbajor/miniconda3/envs/dl/lib/python3.10/site-packages/debugpy/_vendored/pydevd/_pydevd_bundle/pydevd_io.py\", line 247, in redirect_stream_to_pydb_io_messages_context\n",
      "    with _RedirectionsHolder._lock:\n",
      "  File \"/home/jbajor/miniconda3/envs/dl/lib/python3.10/site-packages/debugpy/_vendored/pydevd/_pydevd_bundle/pydevd_io.py\", line 247, in redirect_stream_to_pydb_io_messages_context\n",
      "    with _RedirectionsHolder._lock:\n",
      "  File \"/home/jbajor/miniconda3/envs/dl/lib/python3.10/site-packages/debugpy/_vendored/pydevd/_pydevd_bundle/pydevd_constants.py\", line 443, in __exit__\n",
      "    return self._lock.__exit__(exc_type, exc_val, exc_tb)\n",
      "  File \"/home/jbajor/miniconda3/envs/dl/lib/python3.10/site-packages/debugpy/_vendored/pydevd/_pydevd_bundle/pydevd_comm.py\", line 528, in do_it\n",
      "    self.method(dbg, *self.args, **self.kwargs)\n",
      "  File \"/home/jbajor/miniconda3/envs/dl/lib/python3.10/site-packages/debugpy/_vendored/pydevd/_pydevd_bundle/pydevd_comm.py\", line 528, in do_it\n",
      "    self.method(dbg, *self.args, **self.kwargs)\n",
      "Traceback (most recent call last):\n",
      "Traceback (most recent call last):\n",
      "RuntimeError: cannot release un-acquired lock\n",
      "Traceback (most recent call last):\n",
      "  File \"/home/jbajor/miniconda3/envs/dl/lib/python3.10/site-packages/debugpy/_vendored/pydevd/_pydevd_bundle/pydevd_comm.py\", line 1149, in internal_evaluate_expression_json\n",
      "    with ctx:\n",
      "  File \"/home/jbajor/miniconda3/envs/dl/lib/python3.10/site-packages/debugpy/_vendored/pydevd/_pydevd_bundle/pydevd_comm.py\", line 1149, in internal_evaluate_expression_json\n",
      "    with ctx:\n",
      "  File \"/home/jbajor/miniconda3/envs/dl/lib/python3.10/site-packages/debugpy/_vendored/pydevd/pydevd.py\", line 1783, in process_internal_commands\n",
      "    int_cmd.do_it(self)\n",
      "  File \"/home/jbajor/miniconda3/envs/dl/lib/python3.10/site-packages/debugpy/_vendored/pydevd/pydevd.py\", line 1783, in process_internal_commands\n",
      "    int_cmd.do_it(self)\n",
      "  File \"/home/jbajor/miniconda3/envs/dl/lib/python3.10/contextlib.py\", line 142, in __exit__\n",
      "    next(self.gen)\n",
      "  File \"/home/jbajor/miniconda3/envs/dl/lib/python3.10/site-packages/debugpy/_vendored/pydevd/pydevd.py\", line 1783, in process_internal_commands\n",
      "    int_cmd.do_it(self)\n",
      "  File \"/home/jbajor/miniconda3/envs/dl/lib/python3.10/contextlib.py\", line 142, in __exit__\n",
      "    next(self.gen)\n",
      "  File \"/home/jbajor/miniconda3/envs/dl/lib/python3.10/site-packages/debugpy/_vendored/pydevd/_pydevd_bundle/pydevd_comm.py\", line 528, in do_it\n",
      "    self.method(dbg, *self.args, **self.kwargs)\n",
      "  File \"/home/jbajor/miniconda3/envs/dl/lib/python3.10/site-packages/debugpy/_vendored/pydevd/_pydevd_bundle/pydevd_comm.py\", line 528, in do_it\n",
      "    self.method(dbg, *self.args, **self.kwargs)\n",
      "  File \"/home/jbajor/miniconda3/envs/dl/lib/python3.10/site-packages/debugpy/_vendored/pydevd/_pydevd_bundle/pydevd_io.py\", line 247, in redirect_stream_to_pydb_io_messages_context\n",
      "    with _RedirectionsHolder._lock:\n",
      "  File \"/home/jbajor/miniconda3/envs/dl/lib/python3.10/site-packages/debugpy/_vendored/pydevd/_pydevd_bundle/pydevd_comm.py\", line 528, in do_it\n",
      "    self.method(dbg, *self.args, **self.kwargs)\n",
      "  File \"/home/jbajor/miniconda3/envs/dl/lib/python3.10/site-packages/debugpy/_vendored/pydevd/_pydevd_bundle/pydevd_io.py\", line 247, in redirect_stream_to_pydb_io_messages_context\n",
      "    with _RedirectionsHolder._lock:\n",
      "  File \"/home/jbajor/miniconda3/envs/dl/lib/python3.10/site-packages/debugpy/_vendored/pydevd/_pydevd_bundle/pydevd_comm.py\", line 1149, in internal_evaluate_expression_json\n",
      "    with ctx:\n",
      "  File \"/home/jbajor/miniconda3/envs/dl/lib/python3.10/site-packages/debugpy/_vendored/pydevd/_pydevd_bundle/pydevd_comm.py\", line 1149, in internal_evaluate_expression_json\n",
      "    with ctx:\n",
      "  File \"/home/jbajor/miniconda3/envs/dl/lib/python3.10/site-packages/debugpy/_vendored/pydevd/_pydevd_bundle/pydevd_constants.py\", line 443, in __exit__\n",
      "    return self._lock.__exit__(exc_type, exc_val, exc_tb)\n",
      "  File \"/home/jbajor/miniconda3/envs/dl/lib/python3.10/site-packages/debugpy/_vendored/pydevd/_pydevd_bundle/pydevd_comm.py\", line 1149, in internal_evaluate_expression_json\n",
      "    with ctx:\n",
      "  File \"/home/jbajor/miniconda3/envs/dl/lib/python3.10/contextlib.py\", line 142, in __exit__\n",
      "    next(self.gen)\n",
      "  File \"/home/jbajor/miniconda3/envs/dl/lib/python3.10/site-packages/debugpy/_vendored/pydevd/_pydevd_bundle/pydevd_constants.py\", line 443, in __exit__\n",
      "    return self._lock.__exit__(exc_type, exc_val, exc_tb)\n",
      "  File \"/home/jbajor/miniconda3/envs/dl/lib/python3.10/contextlib.py\", line 142, in __exit__\n",
      "    next(self.gen)\n",
      "RuntimeError: cannot release un-acquired lock\n",
      "  File \"/home/jbajor/miniconda3/envs/dl/lib/python3.10/site-packages/debugpy/_vendored/pydevd/_pydevd_bundle/pydevd_io.py\", line 247, in redirect_stream_to_pydb_io_messages_context\n",
      "    with _RedirectionsHolder._lock:\n",
      "  File \"/home/jbajor/miniconda3/envs/dl/lib/python3.10/contextlib.py\", line 142, in __exit__\n",
      "    next(self.gen)\n",
      "RuntimeError: cannot release un-acquired lock\n",
      "  File \"/home/jbajor/miniconda3/envs/dl/lib/python3.10/site-packages/debugpy/_vendored/pydevd/_pydevd_bundle/pydevd_io.py\", line 247, in redirect_stream_to_pydb_io_messages_context\n",
      "    with _RedirectionsHolder._lock:\n",
      "  File \"/home/jbajor/miniconda3/envs/dl/lib/python3.10/site-packages/debugpy/_vendored/pydevd/_pydevd_bundle/pydevd_constants.py\", line 443, in __exit__\n",
      "    return self._lock.__exit__(exc_type, exc_val, exc_tb)\n",
      "  File \"/home/jbajor/miniconda3/envs/dl/lib/python3.10/site-packages/debugpy/_vendored/pydevd/_pydevd_bundle/pydevd_io.py\", line 247, in redirect_stream_to_pydb_io_messages_context\n",
      "    with _RedirectionsHolder._lock:\n",
      "RuntimeError: cannot release un-acquired lock\n",
      "  File \"/home/jbajor/miniconda3/envs/dl/lib/python3.10/site-packages/debugpy/_vendored/pydevd/_pydevd_bundle/pydevd_constants.py\", line 443, in __exit__\n",
      "    return self._lock.__exit__(exc_type, exc_val, exc_tb)\n",
      "  File \"/home/jbajor/miniconda3/envs/dl/lib/python3.10/site-packages/debugpy/_vendored/pydevd/_pydevd_bundle/pydevd_constants.py\", line 443, in __exit__\n",
      "    return self._lock.__exit__(exc_type, exc_val, exc_tb)\n",
      "RuntimeError: cannot release un-acquired lock\n",
      "RuntimeError: cannot release un-acquired lock\n",
      "  File \"/home/jbajor/miniconda3/envs/dl/lib/python3.10/site-packages/debugpy/_vendored/pydevd/_pydevd_bundle/pydevd_io.py\", line 247, in redirect_stream_to_pydb_io_messages_context\n",
      "    with _RedirectionsHolder._lock:\n",
      "  File \"/home/jbajor/miniconda3/envs/dl/lib/python3.10/site-packages/debugpy/_vendored/pydevd/_pydevd_bundle/pydevd_constants.py\", line 443, in __exit__\n",
      "    return self._lock.__exit__(exc_type, exc_val, exc_tb)\n",
      "  File \"/home/jbajor/miniconda3/envs/dl/lib/python3.10/site-packages/debugpy/_vendored/pydevd/_pydevd_bundle/pydevd_constants.py\", line 443, in __exit__\n",
      "    return self._lock.__exit__(exc_type, exc_val, exc_tb)\n",
      "RuntimeError: cannot release un-acquired lock\n",
      "RuntimeError: cannot release un-acquired lock\n"
     ]
    }
   ],
   "source": [
    "tokenizer, train_loader, _, _ = build_loaders(hparams)"
   ]
  },
  {
   "cell_type": "code",
   "execution_count": 4,
   "metadata": {},
   "outputs": [],
   "source": [
    "model = SimpleBigramModel(vocab_size = tokenizer.get_vocab_size())"
   ]
  },
  {
   "cell_type": "code",
   "execution_count": 5,
   "metadata": {},
   "outputs": [
    {
     "ename": "TypeError",
     "evalue": "cross_entropy() missing 2 required positional arguments: 'input' and 'target'",
     "output_type": "error",
     "traceback": [
      "\u001b[0;31m---------------------------------------------------------------------------\u001b[0m",
      "\u001b[0;31mTypeError\u001b[0m                                 Traceback (most recent call last)",
      "Cell \u001b[0;32mIn[5], line 1\u001b[0m\n\u001b[0;32m----> 1\u001b[0m loss \u001b[39m=\u001b[39m F\u001b[39m.\u001b[39;49mcross_entropy()\n",
      "\u001b[0;31mTypeError\u001b[0m: cross_entropy() missing 2 required positional arguments: 'input' and 'target'"
     ]
    }
   ],
   "source": [
    "loss = F.cross_entropy()"
   ]
  },
  {
   "cell_type": "code",
   "execution_count": 6,
   "metadata": {},
   "outputs": [
    {
     "name": "stdout",
     "output_type": "stream",
     "text": [
      "huggingface/tokenizers: The current process just got forked, after parallelism has already been used. Disabling parallelism to avoid deadlocks...\n",
      "To disable this warning, you can either:\n",
      "\t- Avoid using `tokenizers` before the fork if possible\n",
      "\t- Explicitly set the environment variable TOKENIZERS_PARALLELISM=(true | false)\n",
      "huggingface/tokenizers: The current process just got forked, after parallelism has already been used. Disabling parallelism to avoid deadlocks...\n",
      "To disable this warning, you can either:\n",
      "\t- Avoid using `tokenizers` before the fork if possible\n",
      "\t- Explicitly set the environment variable TOKENIZERS_PARALLELISM=(true | false)\n",
      "huggingface/tokenizers: The current process just got forked, after parallelism has already been used. Disabling parallelism to avoid deadlocks...\n",
      "To disable this warning, you can either:\n",
      "\t- Avoid using `tokenizers` before the fork if possible\n",
      "\t- Explicitly set the environment variable TOKENIZERS_PARALLELISM=(true | false)\n",
      "huggingface/tokenizers: The current process just got forked, after parallelism has already been used. Disabling parallelism to avoid deadlocks...\n",
      "To disable this warning, you can either:\n",
      "\t- Avoid using `tokenizers` before the fork if possible\n",
      "\t- Explicitly set the environment variable TOKENIZERS_PARALLELISM=(true | false)\n",
      "huggingface/tokenizers: The current process just got forked, after parallelism has already been used. Disabling parallelism to avoid deadlocks...\n",
      "To disable this warning, you can either:\n",
      "\t- Avoid using `tokenizers` before the fork if possible\n",
      "\t- Explicitly set the environment variable TOKENIZERS_PARALLELISM=(true | false)\n",
      "huggingface/tokenizers: The current process just got forked, after parallelism has already been used. Disabling parallelism to avoid deadlocks...\n",
      "To disable this warning, you can either:\n",
      "\t- Avoid using `tokenizers` before the fork if possible\n",
      "\t- Explicitly set the environment variable TOKENIZERS_PARALLELISM=(true | false)\n",
      "huggingface/tokenizers: The current process just got forked, after parallelism has already been used. Disabling parallelism to avoid deadlocks...\n",
      "To disable this warning, you can either:\n",
      "\t- Avoid using `tokenizers` before the fork if possible\n",
      "\t- Explicitly set the environment variable TOKENIZERS_PARALLELISM=(true | false)\n",
      "huggingface/tokenizers: The current process just got forked, after parallelism has already been used. Disabling parallelism to avoid deadlocks...\n",
      "To disable this warning, you can either:\n",
      "\t- Avoid using `tokenizers` before the fork if possible\n",
      "\t- Explicitly set the environment variable TOKENIZERS_PARALLELISM=(true | false)\n",
      "\t- Explicitly set the environment variable TOKENIZERS_PARALLELISM=(true | false)\n",
      "\t- Explicitly set the environment variable TOKENIZERS_PARALLELISM=(true | false)\n",
      "\t- Explicitly set the environment variable TOKENIZERS_PARALLELISM=(true | false)\n"
     ]
    },
    {
     "data": {
      "text/plain": [
       "[tensor([], size=(64, 0)), tensor([], size=(64, 0))]"
      ]
     },
     "execution_count": 6,
     "metadata": {},
     "output_type": "execute_result"
    }
   ],
   "source": [
    "next(iter(train_loader))"
   ]
  }
 ],
 "metadata": {
  "kernelspec": {
   "display_name": "dl",
   "language": "python",
   "name": "python3"
  },
  "language_info": {
   "codemirror_mode": {
    "name": "ipython",
    "version": 3
   },
   "file_extension": ".py",
   "mimetype": "text/x-python",
   "name": "python",
   "nbconvert_exporter": "python",
   "pygments_lexer": "ipython3",
   "version": "3.10.8"
  },
  "orig_nbformat": 4
 },
 "nbformat": 4,
 "nbformat_minor": 2
}
